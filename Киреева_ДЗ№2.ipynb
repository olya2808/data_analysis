{
  "nbformat": 4,
  "nbformat_minor": 0,
  "metadata": {
    "colab": {
      "provenance": []
    },
    "kernelspec": {
      "name": "python3",
      "display_name": "Python 3"
    },
    "language_info": {
      "name": "python"
    }
  },
  "cells": [
    {
      "cell_type": "markdown",
      "metadata": {
        "id": "AHuNpAAE99CG"
      },
      "source": [
        "# Домашнее задание (28 баллов)\n",
        "\n",
        "* Для задачи 1 используйте данные:[сеть](https://drive.google.com/file/d/1W5GrHAvxG4AjFm6kzwNyzoAA7jt48cJ5/view?usp=sharing), [метки вершин](https://colab.research.google.com/drive/1Im4CNTOLqj4u-gx8IvaeTRaSUxyYmcH3#scrollTo=zNLwH-PzWdUb). \n",
        "\n",
        "* Для задачи 2,3 [данные](https://snap.stanford.edu/data/email-Eu-core.html) (предварительно сделайте сеть ненаправленной)."
      ]
    },
    {
      "cell_type": "code",
      "source": [
        "import numpy as np\n",
        "import pandas as pd\n",
        "import matplotlib.pyplot as plt\n",
        "import networkx as nx\n",
        "from sklearn.model_selection import train_test_split\n",
        "from sklearn.linear_model import LogisticRegression\n",
        "from sklearn.linear_model import LinearRegression\n",
        "from sklearn import tree\n",
        "from sklearn import metrics\n",
        "from sklearn import tree\n",
        "from sklearn.svm import LinearSVC\n",
        "from sklearn.preprocessing import StandardScaler \n",
        "import itertools\n",
        "from community import community_louvain\n",
        "from networkx.algorithms import community as com\n",
        "from sklearn.metrics import mutual_info_score\n",
        "from sklearn.metrics.cluster import normalized_mutual_info_score\n",
        "from sklearn.cluster import AgglomerativeClustering\n",
        "from google.colab import drive\n",
        "import random\n",
        "%matplotlib inline"
      ],
      "metadata": {
        "id": "ZpYTkHZWU2BE"
      },
      "execution_count": null,
      "outputs": []
    },
    {
      "cell_type": "markdown",
      "metadata": {
        "id": "WD2dTTfv-Db8"
      },
      "source": [
        "## 1. Классификация вершин (10 баллов) \n",
        "\n",
        "Будем решать задачу предсказания влиятельности вершин как задачу бинарной классификации. \n",
        "\n",
        "1. (2 балла) Разметьте вершины (подсказка: постройте распределение влиятельностей и выберите порог разбиения на два отрезка).  \n",
        "\n",
        "2. (2 балла) Вычислите различные структурные признаки вершин: центральности, кластеризацию, k-core.\n",
        "\n",
        "3. (2 балла) Будем использовать структурный признак как простейший классификатор. Постройте соответсвующие ROC кривые и вычислите площади. \n",
        "\n",
        "4. (2 балла) Разделите выборку на обучающую и тестовую, постройте модели классификации (например, логистическая регрессия, SVM, дерево решений), используя все структурные признаки; выведите метрики качества.\n",
        "\n",
        "5. (2 балла) Проанализируйте важность признаков. "
      ]
    },
    {
      "cell_type": "code",
      "source": [
        "#from google.colab import files\n",
        "#files.upload()\n",
        "import gdown\n",
        "\n",
        "!gdown --id 1W5GrHAvxG4AjFm6kzwNyzoAA7jt48cJ5"
      ],
      "metadata": {
        "colab": {
          "base_uri": "https://localhost:8080/"
        },
        "id": "Kae-BtnOTtoh",
        "outputId": "7ffce8af-2789-4afd-af88-a4c5be0dcf44"
      },
      "execution_count": null,
      "outputs": [
        {
          "output_type": "stream",
          "name": "stdout",
          "text": [
            "/usr/local/lib/python3.9/dist-packages/gdown/cli.py:121: FutureWarning: Option `--id` was deprecated in version 4.3.1 and will be removed in 5.0. You don't need to pass it anymore to use a file ID.\n",
            "  warnings.warn(\n",
            "Downloading...\n",
            "From: https://drive.google.com/uc?id=1W5GrHAvxG4AjFm6kzwNyzoAA7jt48cJ5\n",
            "To: /content/gdrive/MyDrive/анализ/ДЗ2/ca-GrQc.mtx\n",
            "100% 140k/140k [00:00<00:00, 47.4MB/s]\n"
          ]
        }
      ]
    },
    {
      "cell_type": "code",
      "source": [
        "!gdown --id 1dC-PWLIE2xGbHZwEgfplICTYZdCvwVxC # данные по распространению"
      ],
      "metadata": {
        "colab": {
          "base_uri": "https://localhost:8080/"
        },
        "id": "xKTYX_71Txhl",
        "outputId": "bf6269a2-9d06-4a42-b8b3-2f56713be6cf"
      },
      "execution_count": null,
      "outputs": [
        {
          "output_type": "stream",
          "name": "stdout",
          "text": [
            "/usr/local/lib/python3.9/dist-packages/gdown/cli.py:121: FutureWarning: Option `--id` was deprecated in version 4.3.1 and will be removed in 5.0. You don't need to pass it anymore to use a file ID.\n",
            "  warnings.warn(\n",
            "Downloading...\n",
            "From: https://drive.google.com/uc?id=1dC-PWLIE2xGbHZwEgfplICTYZdCvwVxC\n",
            "To: /content/gdrive/MyDrive/анализ/ДЗ2/spreading_data_ca-GrQc.csv\n",
            "100% 113k/113k [00:00<00:00, 37.7MB/s]\n"
          ]
        }
      ]
    },
    {
      "cell_type": "code",
      "source": [
        "G=nx.read_adjlist('ca-GrQc.mtx')\n",
        "print(G.number_of_nodes(),G.number_of_edges())"
      ],
      "metadata": {
        "colab": {
          "base_uri": "https://localhost:8080/"
        },
        "id": "nS02VmINbZ2_",
        "outputId": "60d834c5-26b7-44cd-d964-b2fd83e42be3"
      },
      "execution_count": null,
      "outputs": [
        {
          "output_type": "stream",
          "name": "stdout",
          "text": [
            "4158 13422\n"
          ]
        }
      ]
    },
    {
      "cell_type": "markdown",
      "source": [
        "1. (2 балла) Разметьте вершины (подсказка: постройте распределение влиятельностей и выберите порог разбиения на два отрезка).  "
      ],
      "metadata": {
        "id": "enbjyCuAb87z"
      }
    },
    {
      "cell_type": "code",
      "source": [
        "df['spreading ability'].hist(bins=10)"
      ],
      "metadata": {
        "colab": {
          "base_uri": "https://localhost:8080/",
          "height": 283
        },
        "id": "LJCSgUBTb9dT",
        "outputId": "9895f30f-c0a3-433b-90d2-3ff62592e090"
      },
      "execution_count": null,
      "outputs": [
        {
          "output_type": "execute_result",
          "data": {
            "text/plain": [
              "<Axes: >"
            ]
          },
          "metadata": {},
          "execution_count": 20
        },
        {
          "output_type": "display_data",
          "data": {
            "text/plain": [
              "<Figure size 432x288 with 1 Axes>"
            ],
            "image/png": "[encoded data removed]"
          },
          "metadata": {
            "needs_background": "light"
          }
        }
      ]
    },
    {
      "cell_type": "code",
      "source": [
        "print(len(df[df['spreading ability']>0.07]))\n",
        "print(len(df[df['spreading ability']<0.07]))"
      ],
      "metadata": {
        "colab": {
          "base_uri": "https://localhost:8080/"
        },
        "id": "5eqmMtpAcUpM",
        "outputId": "266a2bdd-37d1-42a7-889a-af721cb4e2f4"
      },
      "execution_count": null,
      "outputs": [
        {
          "output_type": "stream",
          "name": "stdout",
          "text": [
            "640\n",
            "3518\n"
          ]
        }
      ]
    },
    {
      "cell_type": "code",
      "source": [
        "data=[]\n",
        "for j in range (4158):\n",
        "  if df['spreading ability'][j]<0.07:\n",
        "    data.append(0)\n",
        "  else:\n",
        "    data.append(1)\n",
        "df.loc[:, \"nodes\"] = data"
      ],
      "metadata": {
        "id": "INIt_2Gwdx76"
      },
      "execution_count": null,
      "outputs": []
    },
    {
      "cell_type": "markdown",
      "source": [
        "2. (2 балла) Вычислите различные структурные признаки вершин: центральности, кластеризацию, k-core."
      ],
      "metadata": {
        "id": "wkil0Tv_frXb"
      }
    },
    {
      "cell_type": "code",
      "source": [
        "df.loc[:, \"degee_cen\"]=list(nx.degree_centrality(G).values())\n",
        "df.loc[:, \"closeness_cen\"]=list(nx.closeness_centrality(G).values())\n",
        "df.loc[:, \"harmonic_cen\"]=list(nx.harmonic_centrality(G).values())\n",
        "df.loc[:, \"betweenness_cen\"]=list(nx.betweenness_centrality(G).values())\n",
        "df.loc[:, \"eigenvector_cen\"]=list(nx.eigenvector_centrality(G).values())\n",
        "df.loc[:, \"pagerank_cen\"]=list(nx.pagerank(G, alpha=1.0).values())\n",
        "df.loc[:, \"clustering\"]=list(nx.clustering(G).values())\n",
        "df"
      ],
      "metadata": {
        "colab": {
          "base_uri": "https://localhost:8080/",
          "height": 678
        },
        "id": "d_z-eA_Gfr7S",
        "outputId": "c97cfcb9-017f-448c-bd31-cc196517427a"
      },
      "execution_count": null,
      "outputs": [
        {
          "output_type": "execute_result",
          "data": {
            "text/plain": [
              "      node  spreading ability  Class  Bet_centr  Clustering  Deg_centr  \\\n",
              "0       19           0.000241      0   0.002893    0.500000   0.000962   \n",
              "1        1           0.000481      0   0.002290    0.333333   0.001443   \n",
              "2     1751           0.131073      1   0.000000    1.000000   0.000722   \n",
              "3     2408           0.000241      0   0.001707    0.400000   0.001203   \n",
              "4     3078           0.001684      0   0.000481    0.333333   0.000722   \n",
              "...    ...                ...    ...        ...         ...        ...   \n",
              "4153  3858           0.000241      0   0.000000    0.000000   0.000241   \n",
              "4154  3859           0.000241      0   0.000000    1.000000   0.000481   \n",
              "4155  4019           0.000241      0   0.000000    0.000000   0.000241   \n",
              "4156  4124           0.000241      0   0.000000    0.000000   0.000241   \n",
              "4157  3975           0.000241      0   0.000000    0.000000   0.000241   \n",
              "\n",
              "         Eig_centr  Clos_centr        PR  nodes  degee_cen  closeness_cen  \\\n",
              "0     1.978526e-07    0.184101  0.000187      0   0.000962       0.184101   \n",
              "1     1.930278e-08    0.159047  0.000294      0   0.001443       0.159047   \n",
              "2     1.893130e-08    0.158980  0.000142      1   0.000722       0.158980   \n",
              "3     5.769050e-07    0.171225  0.000229      0   0.001203       0.171225   \n",
              "4     1.450752e-08    0.146260  0.000144      0   0.000722       0.146260   \n",
              "...            ...         ...       ...    ...        ...            ...   \n",
              "4153  2.516598e-08    0.147349  0.000043      0   0.000241       0.147349   \n",
              "4154  6.328154e-07    0.180261  0.000084      0   0.000481       0.180261   \n",
              "4155  9.752772e-07    0.168655  0.000043      0   0.000241       0.168655   \n",
              "4156  2.715108e-08    0.150550  0.000043      0   0.000241       0.150550   \n",
              "4157  1.851009e-05    0.152355  0.000036      0   0.000241       0.152355   \n",
              "\n",
              "      harmonic_cen  betweenness_cen  eigenvector_cen  pagerank_cen  clustering  \n",
              "0       982.252886         0.002893     1.978526e-07      0.000187    0.500000  \n",
              "1       710.653427         0.002290     1.930278e-08      0.000294    0.333333  \n",
              "2       803.936941         0.000000     1.893130e-08      0.000142    1.000000  \n",
              "3       810.569589         0.001707     5.769050e-07      0.000229    0.400000  \n",
              "4       540.837299         0.000481     1.450752e-08      0.000144    0.333333  \n",
              "...            ...              ...              ...           ...         ...  \n",
              "4153    752.069589         0.000000     2.516598e-08      0.000043    0.000000  \n",
              "4154    749.826587         0.000000     6.328154e-07      0.000084    1.000000  \n",
              "4155    613.322475         0.000000     9.752772e-07      0.000043    0.000000  \n",
              "4156    711.839214         0.000000     2.715108e-08      0.000043    0.000000  \n",
              "4157    643.575072         0.000000     1.851009e-05      0.000036    0.000000  \n",
              "\n",
              "[4158 rows x 17 columns]"
            ],
            "text/html": [
              "\n",
              "  <div id=\"df-1e901a7e-8a26-4e52-be02-4dbc3d227a07\">\n",
              "    <div class=\"colab-df-container\">\n",
              "      <div>\n",
              "<style scoped>\n",
              "    .dataframe tbody tr th:only-of-type {\n",
              "        vertical-align: middle;\n",
              "    }\n",
              "\n",
              "    .dataframe tbody tr th {\n",
              "        vertical-align: top;\n",
              "    }\n",
              "\n",
              "    .dataframe thead th {\n",
              "        text-align: right;\n",
              "    }\n",
              "</style>\n",
              "<table border=\"1\" class=\"dataframe\">\n",
              "  <thead>\n",
              "    <tr style=\"text-align: right;\">\n",
              "      <th></th>\n",
              "      <th>node</th>\n",
              "      <th>spreading ability</th>\n",
              "      <th>Class</th>\n",
              "      <th>Bet_centr</th>\n",
              "      <th>Clustering</th>\n",
              "      <th>Deg_centr</th>\n",
              "      <th>Eig_centr</th>\n",
              "      <th>Clos_centr</th>\n",
              "      <th>PR</th>\n",
              "      <th>nodes</th>\n",
              "      <th>degee_cen</th>\n",
              "      <th>closeness_cen</th>\n",
              "      <th>harmonic_cen</th>\n",
              "      <th>betweenness_cen</th>\n",
              "      <th>eigenvector_cen</th>\n",
              "      <th>pagerank_cen</th>\n",
              "      <th>clustering</th>\n",
              "    </tr>\n",
              "  </thead>\n",
              "  <tbody>\n",
              "    <tr>\n",
              "      <th>0</th>\n",
              "      <td>19</td>\n",
              "      <td>0.000241</td>\n",
              "      <td>0</td>\n",
              "      <td>0.002893</td>\n",
              "      <td>0.500000</td>\n",
              "      <td>0.000962</td>\n",
              "      <td>1.978526e-07</td>\n",
              "      <td>0.184101</td>\n",
              "      <td>0.000187</td>\n",
              "      <td>0</td>\n",
              "      <td>0.000962</td>\n",
              "      <td>0.184101</td>\n",
              "      <td>982.252886</td>\n",
              "      <td>0.002893</td>\n",
              "      <td>1.978526e-07</td>\n",
              "      <td>0.000187</td>\n",
              "      <td>0.500000</td>\n",
              "    </tr>\n",
              "    <tr>\n",
              "      <th>1</th>\n",
              "      <td>1</td>\n",
              "      <td>0.000481</td>\n",
              "      <td>0</td>\n",
              "      <td>0.002290</td>\n",
              "      <td>0.333333</td>\n",
              "      <td>0.001443</td>\n",
              "      <td>1.930278e-08</td>\n",
              "      <td>0.159047</td>\n",
              "      <td>0.000294</td>\n",
              "      <td>0</td>\n",
              "      <td>0.001443</td>\n",
              "      <td>0.159047</td>\n",
              "      <td>710.653427</td>\n",
              "      <td>0.002290</td>\n",
              "      <td>1.930278e-08</td>\n",
              "      <td>0.000294</td>\n",
              "      <td>0.333333</td>\n",
              "    </tr>\n",
              "    <tr>\n",
              "      <th>2</th>\n",
              "      <td>1751</td>\n",
              "      <td>0.131073</td>\n",
              "      <td>1</td>\n",
              "      <td>0.000000</td>\n",
              "      <td>1.000000</td>\n",
              "      <td>0.000722</td>\n",
              "      <td>1.893130e-08</td>\n",
              "      <td>0.158980</td>\n",
              "      <td>0.000142</td>\n",
              "      <td>1</td>\n",
              "      <td>0.000722</td>\n",
              "      <td>0.158980</td>\n",
              "      <td>803.936941</td>\n",
              "      <td>0.000000</td>\n",
              "      <td>1.893130e-08</td>\n",
              "      <td>0.000142</td>\n",
              "      <td>1.000000</td>\n",
              "    </tr>\n",
              "    <tr>\n",
              "      <th>3</th>\n",
              "      <td>2408</td>\n",
              "      <td>0.000241</td>\n",
              "      <td>0</td>\n",
              "      <td>0.001707</td>\n",
              "      <td>0.400000</td>\n",
              "      <td>0.001203</td>\n",
              "      <td>5.769050e-07</td>\n",
              "      <td>0.171225</td>\n",
              "      <td>0.000229</td>\n",
              "      <td>0</td>\n",
              "      <td>0.001203</td>\n",
              "      <td>0.171225</td>\n",
              "      <td>810.569589</td>\n",
              "      <td>0.001707</td>\n",
              "      <td>5.769050e-07</td>\n",
              "      <td>0.000229</td>\n",
              "      <td>0.400000</td>\n",
              "    </tr>\n",
              "    <tr>\n",
              "      <th>4</th>\n",
              "      <td>3078</td>\n",
              "      <td>0.001684</td>\n",
              "      <td>0</td>\n",
              "      <td>0.000481</td>\n",
              "      <td>0.333333</td>\n",
              "      <td>0.000722</td>\n",
              "      <td>1.450752e-08</td>\n",
              "      <td>0.146260</td>\n",
              "      <td>0.000144</td>\n",
              "      <td>0</td>\n",
              "      <td>0.000722</td>\n",
              "      <td>0.146260</td>\n",
              "      <td>540.837299</td>\n",
              "      <td>0.000481</td>\n",
              "      <td>1.450752e-08</td>\n",
              "      <td>0.000144</td>\n",
              "      <td>0.333333</td>\n",
              "    </tr>\n",
              "    <tr>\n",
              "      <th>...</th>\n",
              "      <td>...</td>\n",
              "      <td>...</td>\n",
              "      <td>...</td>\n",
              "      <td>...</td>\n",
              "      <td>...</td>\n",
              "      <td>...</td>\n",
              "      <td>...</td>\n",
              "      <td>...</td>\n",
              "      <td>...</td>\n",
              "      <td>...</td>\n",
              "      <td>...</td>\n",
              "      <td>...</td>\n",
              "      <td>...</td>\n",
              "      <td>...</td>\n",
              "      <td>...</td>\n",
              "      <td>...</td>\n",
              "      <td>...</td>\n",
              "    </tr>\n",
              "    <tr>\n",
              "      <th>4153</th>\n",
              "      <td>3858</td>\n",
              "      <td>0.000241</td>\n",
              "      <td>0</td>\n",
              "      <td>0.000000</td>\n",
              "      <td>0.000000</td>\n",
              "      <td>0.000241</td>\n",
              "      <td>2.516598e-08</td>\n",
              "      <td>0.147349</td>\n",
              "      <td>0.000043</td>\n",
              "      <td>0</td>\n",
              "      <td>0.000241</td>\n",
              "      <td>0.147349</td>\n",
              "      <td>752.069589</td>\n",
              "      <td>0.000000</td>\n",
              "      <td>2.516598e-08</td>\n",
              "      <td>0.000043</td>\n",
              "      <td>0.000000</td>\n",
              "    </tr>\n",
              "    <tr>\n",
              "      <th>4154</th>\n",
              "      <td>3859</td>\n",
              "      <td>0.000241</td>\n",
              "      <td>0</td>\n",
              "      <td>0.000000</td>\n",
              "      <td>1.000000</td>\n",
              "      <td>0.000481</td>\n",
              "      <td>6.328154e-07</td>\n",
              "      <td>0.180261</td>\n",
              "      <td>0.000084</td>\n",
              "      <td>0</td>\n",
              "      <td>0.000481</td>\n",
              "      <td>0.180261</td>\n",
              "      <td>749.826587</td>\n",
              "      <td>0.000000</td>\n",
              "      <td>6.328154e-07</td>\n",
              "      <td>0.000084</td>\n",
              "      <td>1.000000</td>\n",
              "    </tr>\n",
              "    <tr>\n",
              "      <th>4155</th>\n",
              "      <td>4019</td>\n",
              "      <td>0.000241</td>\n",
              "      <td>0</td>\n",
              "      <td>0.000000</td>\n",
              "      <td>0.000000</td>\n",
              "      <td>0.000241</td>\n",
              "      <td>9.752772e-07</td>\n",
              "      <td>0.168655</td>\n",
              "      <td>0.000043</td>\n",
              "      <td>0</td>\n",
              "      <td>0.000241</td>\n",
              "      <td>0.168655</td>\n",
              "      <td>613.322475</td>\n",
              "      <td>0.000000</td>\n",
              "      <td>9.752772e-07</td>\n",
              "      <td>0.000043</td>\n",
              "      <td>0.000000</td>\n",
              "    </tr>\n",
              "    <tr>\n",
              "      <th>4156</th>\n",
              "      <td>4124</td>\n",
              "      <td>0.000241</td>\n",
              "      <td>0</td>\n",
              "      <td>0.000000</td>\n",
              "      <td>0.000000</td>\n",
              "      <td>0.000241</td>\n",
              "      <td>2.715108e-08</td>\n",
              "      <td>0.150550</td>\n",
              "      <td>0.000043</td>\n",
              "      <td>0</td>\n",
              "      <td>0.000241</td>\n",
              "      <td>0.150550</td>\n",
              "      <td>711.839214</td>\n",
              "      <td>0.000000</td>\n",
              "      <td>2.715108e-08</td>\n",
              "      <td>0.000043</td>\n",
              "      <td>0.000000</td>\n",
              "    </tr>\n",
              "    <tr>\n",
              "      <th>4157</th>\n",
              "      <td>3975</td>\n",
              "      <td>0.000241</td>\n",
              "      <td>0</td>\n",
              "      <td>0.000000</td>\n",
              "      <td>0.000000</td>\n",
              "      <td>0.000241</td>\n",
              "      <td>1.851009e-05</td>\n",
              "      <td>0.152355</td>\n",
              "      <td>0.000036</td>\n",
              "      <td>0</td>\n",
              "      <td>0.000241</td>\n",
              "      <td>0.152355</td>\n",
              "      <td>643.575072</td>\n",
              "      <td>0.000000</td>\n",
              "      <td>1.851009e-05</td>\n",
              "      <td>0.000036</td>\n",
              "      <td>0.000000</td>\n",
              "    </tr>\n",
              "  </tbody>\n",
              "</table>\n",
              "<p>4158 rows × 17 columns</p>\n",
              "</div>\n",
              "      <button class=\"colab-df-convert\" onclick=\"convertToInteractive('df-1e901a7e-8a26-4e52-be02-4dbc3d227a07')\"\n",
              "              title=\"Convert this dataframe to an interactive table.\"\n",
              "              style=\"display:none;\">\n",
              "        \n",
              "  <svg xmlns=\"http://www.w3.org/2000/svg\" height=\"24px\"viewBox=\"0 0 24 24\"\n",
              "       width=\"24px\">\n",
              "    <path d=\"M0 0h24v24H0V0z\" fill=\"none\"/>\n",
              "    <path d=\"M18.56 5.44l.94 2.06.94-2.06 2.06-.94-2.06-.94-.94-2.06-.94 2.06-2.06.94zm-11 1L8.5 8.5l.94-2.06 2.06-.94-2.06-.94L8.5 2.5l-.94 2.06-2.06.94zm10 10l.94 2.06.94-2.06 2.06-.94-2.06-.94-.94-2.06-.94 2.06-2.06.94z\"/><path d=\"M17.41 7.96l-1.37-1.37c-.4-.4-.92-.59-1.43-.59-.52 0-1.04.2-1.43.59L10.3 9.45l-7.72 7.72c-.78.78-.78 2.05 0 2.83L4 21.41c.39.39.9.59 1.41.59.51 0 1.02-.2 1.41-.59l7.78-7.78 2.81-2.81c.8-.78.8-2.07 0-2.86zM5.41 20L4 18.59l7.72-7.72 1.47 1.35L5.41 20z\"/>\n",
              "  </svg>\n",
              "      </button>\n",
              "      \n",
              "  <style>\n",
              "    .colab-df-container {\n",
              "      display:flex;\n",
              "      flex-wrap:wrap;\n",
              "      gap: 12px;\n",
              "    }\n",
              "\n",
              "    .colab-df-convert {\n",
              "      background-color: #E8F0FE;\n",
              "      border: none;\n",
              "      border-radius: 50%;\n",
              "      cursor: pointer;\n",
              "      display: none;\n",
              "      fill: #1967D2;\n",
              "      height: 32px;\n",
              "      padding: 0 0 0 0;\n",
              "      width: 32px;\n",
              "    }\n",
              "\n",
              "    .colab-df-convert:hover {\n",
              "      background-color: #E2EBFA;\n",
              "      box-shadow: 0px 1px 2px rgba(60, 64, 67, 0.3), 0px 1px 3px 1px rgba(60, 64, 67, 0.15);\n",
              "      fill: #174EA6;\n",
              "    }\n",
              "\n",
              "    [theme=dark] .colab-df-convert {\n",
              "      background-color: #3B4455;\n",
              "      fill: #D2E3FC;\n",
              "    }\n",
              "\n",
              "    [theme=dark] .colab-df-convert:hover {\n",
              "      background-color: #434B5C;\n",
              "      box-shadow: 0px 1px 3px 1px rgba(0, 0, 0, 0.15);\n",
              "      filter: drop-shadow(0px 1px 2px rgba(0, 0, 0, 0.3));\n",
              "      fill: #FFFFFF;\n",
              "    }\n",
              "  </style>\n",
              "\n",
              "      <script>\n",
              "        const buttonEl =\n",
              "          document.querySelector('#df-1e901a7e-8a26-4e52-be02-4dbc3d227a07 button.colab-df-convert');\n",
              "        buttonEl.style.display =\n",
              "          google.colab.kernel.accessAllowed ? 'block' : 'none';\n",
              "\n",
              "        async function convertToInteractive(key) {\n",
              "          const element = document.querySelector('#df-1e901a7e-8a26-4e52-be02-4dbc3d227a07');\n",
              "          const dataTable =\n",
              "            await google.colab.kernel.invokeFunction('convertToInteractive',\n",
              "                                                     [key], {});\n",
              "          if (!dataTable) return;\n",
              "\n",
              "          const docLinkHtml = 'Like what you see? Visit the ' +\n",
              "            '<a target=\"_blank\" href=https://colab.research.google.com/notebooks/data_table.ipynb>data table notebook</a>'\n",
              "            + ' to learn more about interactive tables.';\n",
              "          element.innerHTML = '';\n",
              "          dataTable['output_type'] = 'display_data';\n",
              "          await google.colab.output.renderOutput(dataTable, element);\n",
              "          const docLink = document.createElement('div');\n",
              "          docLink.innerHTML = docLinkHtml;\n",
              "          element.appendChild(docLink);\n",
              "        }\n",
              "      </script>\n",
              "    </div>\n",
              "  </div>\n",
              "  "
            ]
          },
          "metadata": {},
          "execution_count": 34
        }
      ]
    },
    {
      "cell_type": "code",
      "source": [
        "cores=nx.core_number(G)\n",
        "cores_list=sorted(cores,key=cores.get,reverse=True)\n",
        "df.loc[:, \"k_core\"]=cores_list\n",
        "df"
      ],
      "metadata": {
        "colab": {
          "base_uri": "https://localhost:8080/",
          "height": 678
        },
        "id": "h5U6cJLet1dt",
        "outputId": "d1e24ee4-7ae5-42b9-824b-ae29bf1e91bd"
      },
      "execution_count": null,
      "outputs": [
        {
          "output_type": "execute_result",
          "data": {
            "text/plain": [
              "      node  spreading ability  Class  Bet_centr  Clustering  Deg_centr  \\\n",
              "0       19           0.000241      0   0.002893    0.500000   0.000962   \n",
              "1        1           0.000481      0   0.002290    0.333333   0.001443   \n",
              "2     1751           0.131073      1   0.000000    1.000000   0.000722   \n",
              "3     2408           0.000241      0   0.001707    0.400000   0.001203   \n",
              "4     3078           0.001684      0   0.000481    0.333333   0.000722   \n",
              "...    ...                ...    ...        ...         ...        ...   \n",
              "4153  3858           0.000241      0   0.000000    0.000000   0.000241   \n",
              "4154  3859           0.000241      0   0.000000    1.000000   0.000481   \n",
              "4155  4019           0.000241      0   0.000000    0.000000   0.000241   \n",
              "4156  4124           0.000241      0   0.000000    0.000000   0.000241   \n",
              "4157  3975           0.000241      0   0.000000    0.000000   0.000241   \n",
              "\n",
              "         Eig_centr  Clos_centr        PR  nodes  degee_cen  closeness_cen  \\\n",
              "0     1.978526e-07    0.184101  0.000187      0   0.000962       0.184101   \n",
              "1     1.930278e-08    0.159047  0.000294      0   0.001443       0.159047   \n",
              "2     1.893130e-08    0.158980  0.000142      1   0.000722       0.158980   \n",
              "3     5.769050e-07    0.171225  0.000229      0   0.001203       0.171225   \n",
              "4     1.450752e-08    0.146260  0.000144      0   0.000722       0.146260   \n",
              "...            ...         ...       ...    ...        ...            ...   \n",
              "4153  2.516598e-08    0.147349  0.000043      0   0.000241       0.147349   \n",
              "4154  6.328154e-07    0.180261  0.000084      0   0.000481       0.180261   \n",
              "4155  9.752772e-07    0.168655  0.000043      0   0.000241       0.168655   \n",
              "4156  2.715108e-08    0.150550  0.000043      0   0.000241       0.150550   \n",
              "4157  1.851009e-05    0.152355  0.000036      0   0.000241       0.152355   \n",
              "\n",
              "      harmonic_cen  betweenness_cen  eigenvector_cen  pagerank_cen  \\\n",
              "0       982.252886         0.002893     1.978526e-07      0.000187   \n",
              "1       710.653427         0.002290     1.930278e-08      0.000294   \n",
              "2       803.936941         0.000000     1.893130e-08      0.000142   \n",
              "3       810.569589         0.001707     5.769050e-07      0.000229   \n",
              "4       540.837299         0.000481     1.450752e-08      0.000144   \n",
              "...            ...              ...              ...           ...   \n",
              "4153    752.069589         0.000000     2.516598e-08      0.000043   \n",
              "4154    749.826587         0.000000     6.328154e-07      0.000084   \n",
              "4155    613.322475         0.000000     9.752772e-07      0.000043   \n",
              "4156    711.839214         0.000000     2.715108e-08      0.000043   \n",
              "4157    643.575072         0.000000     1.851009e-05      0.000036   \n",
              "\n",
              "      clustering k_core  \n",
              "0       0.500000     98  \n",
              "1       0.333333      6  \n",
              "2       1.000000    118  \n",
              "3       0.400000    251  \n",
              "4       0.333333    351  \n",
              "...          ...    ...  \n",
              "4153    0.000000   3815  \n",
              "4154    1.000000   3858  \n",
              "4155    0.000000   4019  \n",
              "4156    0.000000   4124  \n",
              "4157    0.000000   3975  \n",
              "\n",
              "[4158 rows x 18 columns]"
            ],
            "text/html": [
              "\n",
              "  <div id=\"df-49c6aef8-01fe-450c-bba5-7d73d37d1999\">\n",
              "    <div class=\"colab-df-container\">\n",
              "      <div>\n",
              "<style scoped>\n",
              "    .dataframe tbody tr th:only-of-type {\n",
              "        vertical-align: middle;\n",
              "    }\n",
              "\n",
              "    .dataframe tbody tr th {\n",
              "        vertical-align: top;\n",
              "    }\n",
              "\n",
              "    .dataframe thead th {\n",
              "        text-align: right;\n",
              "    }\n",
              "</style>\n",
              "<table border=\"1\" class=\"dataframe\">\n",
              "  <thead>\n",
              "    <tr style=\"text-align: right;\">\n",
              "      <th></th>\n",
              "      <th>node</th>\n",
              "      <th>spreading ability</th>\n",
              "      <th>Class</th>\n",
              "      <th>Bet_centr</th>\n",
              "      <th>Clustering</th>\n",
              "      <th>Deg_centr</th>\n",
              "      <th>Eig_centr</th>\n",
              "      <th>Clos_centr</th>\n",
              "      <th>PR</th>\n",
              "      <th>nodes</th>\n",
              "      <th>degee_cen</th>\n",
              "      <th>closeness_cen</th>\n",
              "      <th>harmonic_cen</th>\n",
              "      <th>betweenness_cen</th>\n",
              "      <th>eigenvector_cen</th>\n",
              "      <th>pagerank_cen</th>\n",
              "      <th>clustering</th>\n",
              "      <th>k_core</th>\n",
              "    </tr>\n",
              "  </thead>\n",
              "  <tbody>\n",
              "    <tr>\n",
              "      <th>0</th>\n",
              "      <td>19</td>\n",
              "      <td>0.000241</td>\n",
              "      <td>0</td>\n",
              "      <td>0.002893</td>\n",
              "      <td>0.500000</td>\n",
              "      <td>0.000962</td>\n",
              "      <td>1.978526e-07</td>\n",
              "      <td>0.184101</td>\n",
              "      <td>0.000187</td>\n",
              "      <td>0</td>\n",
              "      <td>0.000962</td>\n",
              "      <td>0.184101</td>\n",
              "      <td>982.252886</td>\n",
              "      <td>0.002893</td>\n",
              "      <td>1.978526e-07</td>\n",
              "      <td>0.000187</td>\n",
              "      <td>0.500000</td>\n",
              "      <td>98</td>\n",
              "    </tr>\n",
              "    <tr>\n",
              "      <th>1</th>\n",
              "      <td>1</td>\n",
              "      <td>0.000481</td>\n",
              "      <td>0</td>\n",
              "      <td>0.002290</td>\n",
              "      <td>0.333333</td>\n",
              "      <td>0.001443</td>\n",
              "      <td>1.930278e-08</td>\n",
              "      <td>0.159047</td>\n",
              "      <td>0.000294</td>\n",
              "      <td>0</td>\n",
              "      <td>0.001443</td>\n",
              "      <td>0.159047</td>\n",
              "      <td>710.653427</td>\n",
              "      <td>0.002290</td>\n",
              "      <td>1.930278e-08</td>\n",
              "      <td>0.000294</td>\n",
              "      <td>0.333333</td>\n",
              "      <td>6</td>\n",
              "    </tr>\n",
              "    <tr>\n",
              "      <th>2</th>\n",
              "      <td>1751</td>\n",
              "      <td>0.131073</td>\n",
              "      <td>1</td>\n",
              "      <td>0.000000</td>\n",
              "      <td>1.000000</td>\n",
              "      <td>0.000722</td>\n",
              "      <td>1.893130e-08</td>\n",
              "      <td>0.158980</td>\n",
              "      <td>0.000142</td>\n",
              "      <td>1</td>\n",
              "      <td>0.000722</td>\n",
              "      <td>0.158980</td>\n",
              "      <td>803.936941</td>\n",
              "      <td>0.000000</td>\n",
              "      <td>1.893130e-08</td>\n",
              "      <td>0.000142</td>\n",
              "      <td>1.000000</td>\n",
              "      <td>118</td>\n",
              "    </tr>\n",
              "    <tr>\n",
              "      <th>3</th>\n",
              "      <td>2408</td>\n",
              "      <td>0.000241</td>\n",
              "      <td>0</td>\n",
              "      <td>0.001707</td>\n",
              "      <td>0.400000</td>\n",
              "      <td>0.001203</td>\n",
              "      <td>5.769050e-07</td>\n",
              "      <td>0.171225</td>\n",
              "      <td>0.000229</td>\n",
              "      <td>0</td>\n",
              "      <td>0.001203</td>\n",
              "      <td>0.171225</td>\n",
              "      <td>810.569589</td>\n",
              "      <td>0.001707</td>\n",
              "      <td>5.769050e-07</td>\n",
              "      <td>0.000229</td>\n",
              "      <td>0.400000</td>\n",
              "      <td>251</td>\n",
              "    </tr>\n",
              "    <tr>\n",
              "      <th>4</th>\n",
              "      <td>3078</td>\n",
              "      <td>0.001684</td>\n",
              "      <td>0</td>\n",
              "      <td>0.000481</td>\n",
              "      <td>0.333333</td>\n",
              "      <td>0.000722</td>\n",
              "      <td>1.450752e-08</td>\n",
              "      <td>0.146260</td>\n",
              "      <td>0.000144</td>\n",
              "      <td>0</td>\n",
              "      <td>0.000722</td>\n",
              "      <td>0.146260</td>\n",
              "      <td>540.837299</td>\n",
              "      <td>0.000481</td>\n",
              "      <td>1.450752e-08</td>\n",
              "      <td>0.000144</td>\n",
              "      <td>0.333333</td>\n",
              "      <td>351</td>\n",
              "    </tr>\n",
              "    <tr>\n",
              "      <th>...</th>\n",
              "      <td>...</td>\n",
              "      <td>...</td>\n",
              "      <td>...</td>\n",
              "      <td>...</td>\n",
              "      <td>...</td>\n",
              "      <td>...</td>\n",
              "      <td>...</td>\n",
              "      <td>...</td>\n",
              "      <td>...</td>\n",
              "      <td>...</td>\n",
              "      <td>...</td>\n",
              "      <td>...</td>\n",
              "      <td>...</td>\n",
              "      <td>...</td>\n",
              "      <td>...</td>\n",
              "      <td>...</td>\n",
              "      <td>...</td>\n",
              "      <td>...</td>\n",
              "    </tr>\n",
              "    <tr>\n",
              "      <th>4153</th>\n",
              "      <td>3858</td>\n",
              "      <td>0.000241</td>\n",
              "      <td>0</td>\n",
              "      <td>0.000000</td>\n",
              "      <td>0.000000</td>\n",
              "      <td>0.000241</td>\n",
              "      <td>2.516598e-08</td>\n",
              "      <td>0.147349</td>\n",
              "      <td>0.000043</td>\n",
              "      <td>0</td>\n",
              "      <td>0.000241</td>\n",
              "      <td>0.147349</td>\n",
              "      <td>752.069589</td>\n",
              "      <td>0.000000</td>\n",
              "      <td>2.516598e-08</td>\n",
              "      <td>0.000043</td>\n",
              "      <td>0.000000</td>\n",
              "      <td>3815</td>\n",
              "    </tr>\n",
              "    <tr>\n",
              "      <th>4154</th>\n",
              "      <td>3859</td>\n",
              "      <td>0.000241</td>\n",
              "      <td>0</td>\n",
              "      <td>0.000000</td>\n",
              "      <td>1.000000</td>\n",
              "      <td>0.000481</td>\n",
              "      <td>6.328154e-07</td>\n",
              "      <td>0.180261</td>\n",
              "      <td>0.000084</td>\n",
              "      <td>0</td>\n",
              "      <td>0.000481</td>\n",
              "      <td>0.180261</td>\n",
              "      <td>749.826587</td>\n",
              "      <td>0.000000</td>\n",
              "      <td>6.328154e-07</td>\n",
              "      <td>0.000084</td>\n",
              "      <td>1.000000</td>\n",
              "      <td>3858</td>\n",
              "    </tr>\n",
              "    <tr>\n",
              "      <th>4155</th>\n",
              "      <td>4019</td>\n",
              "      <td>0.000241</td>\n",
              "      <td>0</td>\n",
              "      <td>0.000000</td>\n",
              "      <td>0.000000</td>\n",
              "      <td>0.000241</td>\n",
              "      <td>9.752772e-07</td>\n",
              "      <td>0.168655</td>\n",
              "      <td>0.000043</td>\n",
              "      <td>0</td>\n",
              "      <td>0.000241</td>\n",
              "      <td>0.168655</td>\n",
              "      <td>613.322475</td>\n",
              "      <td>0.000000</td>\n",
              "      <td>9.752772e-07</td>\n",
              "      <td>0.000043</td>\n",
              "      <td>0.000000</td>\n",
              "      <td>4019</td>\n",
              "    </tr>\n",
              "    <tr>\n",
              "      <th>4156</th>\n",
              "      <td>4124</td>\n",
              "      <td>0.000241</td>\n",
              "      <td>0</td>\n",
              "      <td>0.000000</td>\n",
              "      <td>0.000000</td>\n",
              "      <td>0.000241</td>\n",
              "      <td>2.715108e-08</td>\n",
              "      <td>0.150550</td>\n",
              "      <td>0.000043</td>\n",
              "      <td>0</td>\n",
              "      <td>0.000241</td>\n",
              "      <td>0.150550</td>\n",
              "      <td>711.839214</td>\n",
              "      <td>0.000000</td>\n",
              "      <td>2.715108e-08</td>\n",
              "      <td>0.000043</td>\n",
              "      <td>0.000000</td>\n",
              "      <td>4124</td>\n",
              "    </tr>\n",
              "    <tr>\n",
              "      <th>4157</th>\n",
              "      <td>3975</td>\n",
              "      <td>0.000241</td>\n",
              "      <td>0</td>\n",
              "      <td>0.000000</td>\n",
              "      <td>0.000000</td>\n",
              "      <td>0.000241</td>\n",
              "      <td>1.851009e-05</td>\n",
              "      <td>0.152355</td>\n",
              "      <td>0.000036</td>\n",
              "      <td>0</td>\n",
              "      <td>0.000241</td>\n",
              "      <td>0.152355</td>\n",
              "      <td>643.575072</td>\n",
              "      <td>0.000000</td>\n",
              "      <td>1.851009e-05</td>\n",
              "      <td>0.000036</td>\n",
              "      <td>0.000000</td>\n",
              "      <td>3975</td>\n",
              "    </tr>\n",
              "  </tbody>\n",
              "</table>\n",
              "<p>4158 rows × 18 columns</p>\n",
              "</div>\n",
              "      <button class=\"colab-df-convert\" onclick=\"convertToInteractive('df-49c6aef8-01fe-450c-bba5-7d73d37d1999')\"\n",
              "              title=\"Convert this dataframe to an interactive table.\"\n",
              "              style=\"display:none;\">\n",
              "        \n",
              "  <svg xmlns=\"http://www.w3.org/2000/svg\" height=\"24px\"viewBox=\"0 0 24 24\"\n",
              "       width=\"24px\">\n",
              "    <path d=\"M0 0h24v24H0V0z\" fill=\"none\"/>\n",
              "    <path d=\"M18.56 5.44l.94 2.06.94-2.06 2.06-.94-2.06-.94-.94-2.06-.94 2.06-2.06.94zm-11 1L8.5 8.5l.94-2.06 2.06-.94-2.06-.94L8.5 2.5l-.94 2.06-2.06.94zm10 10l.94 2.06.94-2.06 2.06-.94-2.06-.94-.94-2.06-.94 2.06-2.06.94z\"/><path d=\"M17.41 7.96l-1.37-1.37c-.4-.4-.92-.59-1.43-.59-.52 0-1.04.2-1.43.59L10.3 9.45l-7.72 7.72c-.78.78-.78 2.05 0 2.83L4 21.41c.39.39.9.59 1.41.59.51 0 1.02-.2 1.41-.59l7.78-7.78 2.81-2.81c.8-.78.8-2.07 0-2.86zM5.41 20L4 18.59l7.72-7.72 1.47 1.35L5.41 20z\"/>\n",
              "  </svg>\n",
              "      </button>\n",
              "      \n",
              "  <style>\n",
              "    .colab-df-container {\n",
              "      display:flex;\n",
              "      flex-wrap:wrap;\n",
              "      gap: 12px;\n",
              "    }\n",
              "\n",
              "    .colab-df-convert {\n",
              "      background-color: #E8F0FE;\n",
              "      border: none;\n",
              "      border-radius: 50%;\n",
              "      cursor: pointer;\n",
              "      display: none;\n",
              "      fill: #1967D2;\n",
              "      height: 32px;\n",
              "      padding: 0 0 0 0;\n",
              "      width: 32px;\n",
              "    }\n",
              "\n",
              "    .colab-df-convert:hover {\n",
              "      background-color: #E2EBFA;\n",
              "      box-shadow: 0px 1px 2px rgba(60, 64, 67, 0.3), 0px 1px 3px 1px rgba(60, 64, 67, 0.15);\n",
              "      fill: #174EA6;\n",
              "    }\n",
              "\n",
              "    [theme=dark] .colab-df-convert {\n",
              "      background-color: #3B4455;\n",
              "      fill: #D2E3FC;\n",
              "    }\n",
              "\n",
              "    [theme=dark] .colab-df-convert:hover {\n",
              "      background-color: #434B5C;\n",
              "      box-shadow: 0px 1px 3px 1px rgba(0, 0, 0, 0.15);\n",
              "      filter: drop-shadow(0px 1px 2px rgba(0, 0, 0, 0.3));\n",
              "      fill: #FFFFFF;\n",
              "    }\n",
              "  </style>\n",
              "\n",
              "      <script>\n",
              "        const buttonEl =\n",
              "          document.querySelector('#df-49c6aef8-01fe-450c-bba5-7d73d37d1999 button.colab-df-convert');\n",
              "        buttonEl.style.display =\n",
              "          google.colab.kernel.accessAllowed ? 'block' : 'none';\n",
              "\n",
              "        async function convertToInteractive(key) {\n",
              "          const element = document.querySelector('#df-49c6aef8-01fe-450c-bba5-7d73d37d1999');\n",
              "          const dataTable =\n",
              "            await google.colab.kernel.invokeFunction('convertToInteractive',\n",
              "                                                     [key], {});\n",
              "          if (!dataTable) return;\n",
              "\n",
              "          const docLinkHtml = 'Like what you see? Visit the ' +\n",
              "            '<a target=\"_blank\" href=https://colab.research.google.com/notebooks/data_table.ipynb>data table notebook</a>'\n",
              "            + ' to learn more about interactive tables.';\n",
              "          element.innerHTML = '';\n",
              "          dataTable['output_type'] = 'display_data';\n",
              "          await google.colab.output.renderOutput(dataTable, element);\n",
              "          const docLink = document.createElement('div');\n",
              "          docLink.innerHTML = docLinkHtml;\n",
              "          element.appendChild(docLink);\n",
              "        }\n",
              "      </script>\n",
              "    </div>\n",
              "  </div>\n",
              "  "
            ]
          },
          "metadata": {},
          "execution_count": 64
        }
      ]
    },
    {
      "cell_type": "markdown",
      "source": [
        "3. (2 балла) Будем использовать структурный признак как простейший классификатор. Постройте соответсвующие ROC кривые и вычислите площади. "
      ],
      "metadata": {
        "id": "DwnrfNeOj08h"
      }
    },
    {
      "cell_type": "code",
      "source": [
        "y = df['nodes']\n",
        "pred = df['degee_cen']\n",
        "fpr, tpr, thresholds = metrics.roc_curve(y, pred)\n",
        "roc_auc = metrics.auc(fpr, tpr)\n",
        "display = metrics.RocCurveDisplay(fpr=fpr, tpr=tpr, roc_auc=roc_auc, estimator_name='example estimator')\n",
        "display.plot()\n",
        "plt.show()"
      ],
      "metadata": {
        "colab": {
          "base_uri": "https://localhost:8080/",
          "height": 279
        },
        "id": "NNWrvM8ikEqO",
        "outputId": "cbcb3375-992c-45e3-b959-6dabbeaf3572"
      },
      "execution_count": null,
      "outputs": [
        {
          "output_type": "display_data",
          "data": {
            "text/plain": [
              "<Figure size 432x288 with 1 Axes>"
            ],
            "image/png": "[encoded data removed]"
          },
          "metadata": {
            "needs_background": "light"
          }
        }
      ]
    },
    {
      "cell_type": "code",
      "source": [
        "y = df['nodes']\n",
        "pred = df['closeness_cen']\n",
        "fpr, tpr, thresholds = metrics.roc_curve(y, pred)\n",
        "roc_auc = metrics.auc(fpr, tpr)\n",
        "display = metrics.RocCurveDisplay(fpr=fpr, tpr=tpr, roc_auc=roc_auc, estimator_name='example estimator')\n",
        "display.plot()\n",
        "plt.show()"
      ],
      "metadata": {
        "colab": {
          "base_uri": "https://localhost:8080/",
          "height": 279
        },
        "id": "l_FmoOuak1-i",
        "outputId": "ee0d0dae-8b97-459f-801d-cd0cb1357f54"
      },
      "execution_count": null,
      "outputs": [
        {
          "output_type": "display_data",
          "data": {
            "text/plain": [
              "<Figure size 432x288 with 1 Axes>"
            ],
            "image/png": "[encoded data removed]"
          },
          "metadata": {
            "needs_background": "light"
          }
        }
      ]
    },
    {
      "cell_type": "code",
      "source": [
        "y = df['nodes']\n",
        "pred = df['harmonic_cen']\n",
        "fpr, tpr, thresholds = metrics.roc_curve(y, pred)\n",
        "roc_auc = metrics.auc(fpr, tpr)\n",
        "display = metrics.RocCurveDisplay(fpr=fpr, tpr=tpr, roc_auc=roc_auc, estimator_name='example estimator')\n",
        "display.plot()\n",
        "plt.show()"
      ],
      "metadata": {
        "colab": {
          "base_uri": "https://localhost:8080/",
          "height": 279
        },
        "id": "5DR6Js5plBXM",
        "outputId": "6db6224c-cb40-4ef5-cf77-ffc7d9e5897d"
      },
      "execution_count": null,
      "outputs": [
        {
          "output_type": "display_data",
          "data": {
            "text/plain": [
              "<Figure size 432x288 with 1 Axes>"
            ],
            "image/png": "[encoded data removed]"
          },
          "metadata": {
            "needs_background": "light"
          }
        }
      ]
    },
    {
      "cell_type": "code",
      "source": [
        "y = df['nodes']\n",
        "pred = df['betweenness_cen']\n",
        "fpr, tpr, thresholds = metrics.roc_curve(y, pred)\n",
        "roc_auc = metrics.auc(fpr, tpr)\n",
        "display = metrics.RocCurveDisplay(fpr=fpr, tpr=tpr, roc_auc=roc_auc, estimator_name='example estimator')\n",
        "display.plot()\n",
        "plt.show()"
      ],
      "metadata": {
        "colab": {
          "base_uri": "https://localhost:8080/",
          "height": 279
        },
        "id": "pyhOL2ynlKz3",
        "outputId": "18183776-5f0f-41cf-ea16-6db74e15f4ab"
      },
      "execution_count": null,
      "outputs": [
        {
          "output_type": "display_data",
          "data": {
            "text/plain": [
              "<Figure size 432x288 with 1 Axes>"
            ],
            "image/png": "[encoded data removed]"
          },
          "metadata": {
            "needs_background": "light"
          }
        }
      ]
    },
    {
      "cell_type": "code",
      "source": [
        "y = df['nodes']\n",
        "pred = df['eigenvector_cen']\n",
        "fpr, tpr, thresholds = metrics.roc_curve(y, pred)\n",
        "roc_auc = metrics.auc(fpr, tpr)\n",
        "display = metrics.RocCurveDisplay(fpr=fpr, tpr=tpr, roc_auc=roc_auc, estimator_name='example estimator')\n",
        "display.plot()\n",
        "plt.show()"
      ],
      "metadata": {
        "colab": {
          "base_uri": "https://localhost:8080/",
          "height": 279
        },
        "id": "Ucs0opdAlgQC",
        "outputId": "46de4d01-d925-4040-e1b2-99feecd9280c"
      },
      "execution_count": null,
      "outputs": [
        {
          "output_type": "display_data",
          "data": {
            "text/plain": [
              "<Figure size 432x288 with 1 Axes>"
            ],
            "image/png": "[encoded data removed]"
          },
          "metadata": {
            "needs_background": "light"
          }
        }
      ]
    },
    {
      "cell_type": "code",
      "source": [
        "y = df['nodes']\n",
        "pred = df['pagerank_cen']\n",
        "fpr, tpr, thresholds = metrics.roc_curve(y, pred)\n",
        "roc_auc = metrics.auc(fpr, tpr)\n",
        "display = metrics.RocCurveDisplay(fpr=fpr, tpr=tpr, roc_auc=roc_auc, estimator_name='example estimator')\n",
        "display.plot()\n",
        "plt.show()"
      ],
      "metadata": {
        "colab": {
          "base_uri": "https://localhost:8080/",
          "height": 279
        },
        "id": "gWHQLNr5lk81",
        "outputId": "99df3f60-e03b-4a68-fbe0-c4df26b5f6a8"
      },
      "execution_count": null,
      "outputs": [
        {
          "output_type": "display_data",
          "data": {
            "text/plain": [
              "<Figure size 432x288 with 1 Axes>"
            ],
            "image/png": "[encoded data removed]"
          },
          "metadata": {
            "needs_background": "light"
          }
        }
      ]
    },
    {
      "cell_type": "code",
      "source": [
        "y = df['nodes']\n",
        "pred = df['clustering']\n",
        "fpr, tpr, thresholds = metrics.roc_curve(y, pred)\n",
        "roc_auc = metrics.auc(fpr, tpr)\n",
        "display = metrics.RocCurveDisplay(fpr=fpr, tpr=tpr, roc_auc=roc_auc, estimator_name='example estimator')\n",
        "display.plot()\n",
        "plt.show()"
      ],
      "metadata": {
        "colab": {
          "base_uri": "https://localhost:8080/",
          "height": 279
        },
        "id": "4uPqRhbGlw-n",
        "outputId": "b545420d-7ef2-48f3-bf3d-df80503dea81"
      },
      "execution_count": null,
      "outputs": [
        {
          "output_type": "display_data",
          "data": {
            "text/plain": [
              "<Figure size 432x288 with 1 Axes>"
            ],
            "image/png": "[encoded data removed]"
          },
          "metadata": {
            "needs_background": "light"
          }
        }
      ]
    },
    {
      "cell_type": "markdown",
      "source": [
        "4. (2 балла) Разделите выборку на обучающую и тестовую, постройте модели классификации (например, логистическая регрессия, SVM, дерево решений), используя все структурные признаки; выведите метрики качества."
      ],
      "metadata": {
        "id": "WzqoudQgmDYX"
      }
    },
    {
      "cell_type": "code",
      "source": [
        "x=df[['degee_cen','closeness_cen','harmonic_cen','betweenness_cen','eigenvector_cen','pagerank_cen','clustering']]\n",
        "y=df['Class']\n",
        "x_train,x_test,y_train,y_test = train_test_split (x,y,test_size=0.25) "
      ],
      "metadata": {
        "id": "qMJIOrDEmEOp"
      },
      "execution_count": null,
      "outputs": []
    },
    {
      "cell_type": "code",
      "source": [
        "log = LogisticRegression()\n",
        "log.fit (x_train,y_train)\n",
        "y_pred = log.predict(x_test)\n",
        "score = log.score(x_test, y_test)\n",
        "print(score)"
      ],
      "metadata": {
        "colab": {
          "base_uri": "https://localhost:8080/"
        },
        "id": "9huYbZ9Kp_BV",
        "outputId": "32daba90-3379-4acf-ef0d-866caab66a8d"
      },
      "execution_count": null,
      "outputs": [
        {
          "output_type": "stream",
          "name": "stdout",
          "text": [
            "0.8451923076923077\n"
          ]
        }
      ]
    },
    {
      "cell_type": "code",
      "source": [
        "cnf_matrix = metrics. confusion_matrix (y_test, y_pred)\n",
        "cnf_matrix"
      ],
      "metadata": {
        "colab": {
          "base_uri": "https://localhost:8080/"
        },
        "id": "svVLchzxwC8k",
        "outputId": "f45651bd-5cc7-4a9a-b5a6-5888261399e5"
      },
      "execution_count": null,
      "outputs": [
        {
          "output_type": "execute_result",
          "data": {
            "text/plain": [
              "array([[869,  10],\n",
              "       [114,  47]])"
            ]
          },
          "metadata": {},
          "execution_count": 71
        }
      ]
    },
    {
      "cell_type": "code",
      "source": [
        "y_pred_test = log.predict_proba (x_test)[::,1]\n",
        "fpr, tpr, _ = metrics.roc_curve (y_test, y_pred_test)\n",
        "auc = metrics. roc_auc_score (y_test, y_pred_test)\n",
        "plt.plot (fpr,tpr,label=\" AUC= \"+str(auc))\n",
        "plt.legend(loc=4)\n",
        "plt.show()"
      ],
      "metadata": {
        "colab": {
          "base_uri": "https://localhost:8080/",
          "height": 265
        },
        "id": "u0TDlYLnqI0q",
        "outputId": "ee02da55-1c22-44fe-8e4d-b2bd15e57565"
      },
      "execution_count": null,
      "outputs": [
        {
          "output_type": "display_data",
          "data": {
            "text/plain": [
              "<Figure size 432x288 with 1 Axes>"
            ],
            "image/png": "[encoded data removed]"
          },
          "metadata": {
            "needs_background": "light"
          }
        }
      ]
    },
    {
      "cell_type": "code",
      "source": [
        "scaler = StandardScaler() \n",
        "scaler.fit(x_train) \n",
        "lin = LinearSVC(C=0.01,random_state=35) \n",
        "lin.fit(scaler.transform(x_train), y_train) \n",
        "y_pred = lin.predict(scaler.transform(x_test)) \n",
        "score = lin.score(x_test, y_test)\n",
        "print(score)"
      ],
      "metadata": {
        "colab": {
          "base_uri": "https://localhost:8080/"
        },
        "id": "7z1plETpu_uc",
        "outputId": "49df0b5e-c6f8-4232-b797-9f2357b382ca"
      },
      "execution_count": null,
      "outputs": [
        {
          "output_type": "stream",
          "name": "stdout",
          "text": [
            "0.1548076923076923\n"
          ]
        },
        {
          "output_type": "stream",
          "name": "stderr",
          "text": [
            "/usr/local/lib/python3.9/dist-packages/sklearn/base.py:432: UserWarning: X has feature names, but LinearSVC was fitted without feature names\n",
            "  warnings.warn(\n"
          ]
        }
      ]
    },
    {
      "cell_type": "code",
      "source": [
        "cnf_matrix = metrics.confusion_matrix (y_test, y_pred)\n",
        "cnf_matrix"
      ],
      "metadata": {
        "colab": {
          "base_uri": "https://localhost:8080/"
        },
        "id": "kEdTejlzwADN",
        "outputId": "4efe81f6-4427-484d-8176-ad7678f39c9b"
      },
      "execution_count": null,
      "outputs": [
        {
          "output_type": "execute_result",
          "data": {
            "text/plain": [
              "array([[869,  10],\n",
              "       [114,  47]])"
            ]
          },
          "metadata": {},
          "execution_count": 81
        }
      ]
    },
    {
      "cell_type": "code",
      "source": [
        "tn, fp, fn, tp = metrics.confusion_matrix(y_test, y_pred, labels = [0, 1]).ravel()\n",
        "precision=tp/(tp+fp)\n",
        "recall=tp/(tp+fn)\n",
        "print('precision= ',precision)\n",
        "print('recall= ', recall)"
      ],
      "metadata": {
        "colab": {
          "base_uri": "https://localhost:8080/"
        },
        "id": "VtqumpucwLUi",
        "outputId": "3db441aa-ff56-426c-8c2d-486016f52e10"
      },
      "execution_count": null,
      "outputs": [
        {
          "output_type": "stream",
          "name": "stdout",
          "text": [
            "precision=  0.8245614035087719\n",
            "recall=  0.2919254658385093\n"
          ]
        }
      ]
    },
    {
      "cell_type": "code",
      "source": [
        "tree = tree.DecisionTreeClassifier()\n",
        "tree. fit (x_train,y_train)\n",
        "y_pred = tree.predict (x_test)\n",
        "score = tree.score(x_test, y_test)\n",
        "print(score)"
      ],
      "metadata": {
        "colab": {
          "base_uri": "https://localhost:8080/"
        },
        "id": "NjC6x-ZJrK3Y",
        "outputId": "6d431158-c754-4976-9c10-25372093d858"
      },
      "execution_count": null,
      "outputs": [
        {
          "output_type": "stream",
          "name": "stdout",
          "text": [
            "0.8192307692307692\n"
          ]
        }
      ]
    },
    {
      "cell_type": "code",
      "source": [
        "cnf_matrix = metrics. confusion_matrix (y_test, y_pred)\n",
        "cnf_matrix"
      ],
      "metadata": {
        "colab": {
          "base_uri": "https://localhost:8080/"
        },
        "id": "UBFWSiJvwOUm",
        "outputId": "0d55f971-36a3-4d74-b225-d58adeaf6b05"
      },
      "execution_count": null,
      "outputs": [
        {
          "output_type": "execute_result",
          "data": {
            "text/plain": [
              "array([[779, 100],\n",
              "       [ 88,  73]])"
            ]
          },
          "metadata": {},
          "execution_count": 78
        }
      ]
    },
    {
      "cell_type": "code",
      "source": [
        "y_pred_test = tree.predict_proba (x_test)[::,1]\n",
        "fpr, tpr, _ = metrics.roc_curve(y_test, y_pred_test)\n",
        "auc = metrics.roc_auc_score (y_test, y_pred_test)\n",
        "plt.plot (fpr,tpr,label=\" AUC= \"+str(auc))\n",
        "plt.legend(loc=3)\n",
        "plt.show()"
      ],
      "metadata": {
        "colab": {
          "base_uri": "https://localhost:8080/",
          "height": 265
        },
        "id": "Hqt64myBrX69",
        "outputId": "2ed5027f-9189-45c3-f1a6-c1198c8522a1"
      },
      "execution_count": null,
      "outputs": [
        {
          "output_type": "display_data",
          "data": {
            "text/plain": [
              "<Figure size 432x288 with 1 Axes>"
            ],
            "image/png": "[encoded data removed]"
          },
          "metadata": {
            "needs_background": "light"
          }
        }
      ]
    },
    {
      "cell_type": "code",
      "source": [
        "tn, fp, fn, tp = metrics.confusion_matrix(y_test, y_pred, labels = [0, 1]).ravel()\n",
        "precision=tp/(tp+fp)\n",
        "recall=tp/(tp+fn)\n",
        "print('precision= ',precision)\n",
        "print('recall= ', recall)"
      ],
      "metadata": {
        "colab": {
          "base_uri": "https://localhost:8080/"
        },
        "id": "E9s1iUDTrws6",
        "outputId": "ade8c977-21c5-4401-f23d-c2b49528b118"
      },
      "execution_count": null,
      "outputs": [
        {
          "output_type": "stream",
          "name": "stdout",
          "text": [
            "precision=  0.398876404494382\n",
            "recall=  0.4409937888198758\n"
          ]
        }
      ]
    },
    {
      "cell_type": "markdown",
      "source": [
        "5. (2 балла) Проанализируйте важность признаков. "
      ],
      "metadata": {
        "id": "RfjpNbtfw0z9"
      }
    },
    {
      "cell_type": "markdown",
      "source": [
        "Исходя из графиков ROCи площади под ними, наибольшей важностью облоадают Степень связности, Степень близости к другим узлам и Степень влиятельности"
      ],
      "metadata": {
        "id": "zRzoeBCPxl7a"
      }
    },
    {
      "cell_type": "markdown",
      "metadata": {
        "id": "3hnF9Y5M-DtB"
      },
      "source": [
        "## 2. Предсказание связей (10 баллов)\n",
        "\n",
        "1. (2 балла) Разбейте сеть на обучающую и тестовую выборку, тестовая выборка должна содержать как связи, которые нужно предсказать, так и отсутствующие (выберите их случайным образом, чтобы тестовая выборка была сбалансирована). \n",
        "\n",
        "2. (2 балла) Сравните Roc-кривые для различных структурных характеристик ребер в сети. Какая лучше справляется с задачей предсказания связей по AUC ROC? \n",
        "\n",
        "3. (4 балла) Напишите функцию, вычисляющую  Average precision at K (ap@K), определите зависимость ap@K от K для простейших классификаторов, определенных в 2. \n",
        "\n",
        "5. (2 балла) Постройте модель предсказания на основе вложения (используйте вложение сети с помощью Лапласиана или Node2vec, на выбор) Сравните качество предсказания с простейшими классификаторами. \n",
        "\n"
      ]
    },
    {
      "cell_type": "code",
      "source": [
        "drive.mount('/content/gdrive', force_remount=True)\n",
        "%cd /content/gdrive/\"My Drive\"/\"анализ\"/\"ДЗ2\""
      ],
      "metadata": {
        "colab": {
          "base_uri": "https://localhost:8080/"
        },
        "id": "VLkKN6sKVItQ",
        "outputId": "26a3506d-cc10-4b66-bf3a-993c5cf23ff5"
      },
      "execution_count": null,
      "outputs": [
        {
          "output_type": "stream",
          "name": "stdout",
          "text": [
            "Mounted at /content/gdrive\n",
            "/content/gdrive/My Drive/анализ/ДЗ2\n"
          ]
        }
      ]
    },
    {
      "cell_type": "code",
      "source": [
        "G = nx.read_edgelist('email-Eu-core.txt') \n",
        "G = nx.Graph.to_undirected(G)\n",
        "labels = pd.read_csv('email-Eu-core-department-labels.txt', sep=' ', names=['node', 'label'])"
      ],
      "metadata": {
        "id": "y00bGC7SV-gA"
      },
      "execution_count": null,
      "outputs": []
    },
    {
      "cell_type": "markdown",
      "source": [
        "1. (2 балла) Разбейте сеть на обучающую и тестовую выборку, тестовая выборка должна содержать как связи, которые нужно предсказать, так и отсутствующие (выберите их случайным образом, чтобы тестовая выборка была сбалансирована). "
      ],
      "metadata": {
        "id": "jfm1Kzv5ygOt"
      }
    },
    {
      "cell_type": "code",
      "source": [
        "test=random.sample(sorted(G.edges()), int(0.25*G.number_of_edges()))\n",
        "test_non_nds=list(nx.non_edges(G))\n",
        "test.extend(test_non_nds)\n",
        "G_train=G.copy()\n",
        "G_train.remove_edges_from(test)\n",
        "G_test=test=nx.Graph()\n",
        "G_test.add_edges_from(test)"
      ],
      "metadata": {
        "id": "fQoiaZ94yhTK"
      },
      "execution_count": null,
      "outputs": []
    },
    {
      "cell_type": "markdown",
      "metadata": {
        "id": "boks4bjP-D08"
      },
      "source": [
        "## 3. Задача кластеризации (8 баллов)\n",
        "\n",
        " Каждый сотдрудник относится к одному из департаментов, которые и являются истинными сообществами в сети. \n",
        "\n",
        "1.  ( 2 балла) Постройте распределение размеров сообществ в сети, какова доля вершин в наибольшем сообществе? В наименьшем? \n",
        "\n",
        "2. ( 2 балла) напишите функцию, вычисляющую [Rand индекс](https://en.wikipedia.org/wiki/Rand_index).\n",
        "\n",
        "3. (2 балла) Рассмотрим задачу поиска сообществ с помощью агломеративного метода, постройте зависимость метрик качества (Rand индекс, взаимная энтропия, модулярность)  от числа задаваемых сообществ. \n",
        "Какое разбиение оказывается более близким к истинному? \n",
        "\n",
        "3. (2 балла) Определите сообщества любым другим методом (из семинара 9). Сколько сообществ вы получили? Сравните метрики качества. \n"
      ]
    },
    {
      "cell_type": "markdown",
      "source": [
        "1.  ( 2 балла) Постройте распределение размеров сообществ в сети, какова доля вершин в наибольшем сообществе? В наименьшем? "
      ],
      "metadata": {
        "id": "gTYaVMlsV912"
      }
    },
    {
      "cell_type": "code",
      "source": [
        "clusters = labels['label'][np.argmax(labels['label'])]\n",
        "current= 0  \n",
        "community = []\n",
        "for i in range(clusters):\n",
        "  for node in labels['label']:\n",
        "    if node == i:\n",
        "      current += 1\n",
        "  community.append(current)\n",
        "  current = 0\n",
        "plt.hist(community, bins=50)\n",
        "plt.xlabel(\"Размер\")\n",
        "plt.ylabel(\"Количество собществ с данным размером\")\n",
        "nodes = G.number_of_nodes()\n",
        "print(\"Доля вершин в наибольшем сообществе:\",community[np.argmax(community)]/nodes)\n",
        "print(\"Доля вершин в наименьшем сообществе:\",community[np.argmin(community)]/nodes)"
      ],
      "metadata": {
        "colab": {
          "base_uri": "https://localhost:8080/",
          "height": 315
        },
        "id": "wl1a4MQOWFIr",
        "outputId": "d7f64ed8-7b65-4bf7-dab8-f174e37fd9ed"
      },
      "execution_count": null,
      "outputs": [
        {
          "output_type": "stream",
          "name": "stdout",
          "text": [
            "Доля вершин в наибольшем сообществе: 0.10845771144278607\n",
            "Доля вершин в наименьшем сообществе: 0.0009950248756218905\n"
          ]
        },
        {
          "output_type": "display_data",
          "data": {
            "text/plain": [
              "<Figure size 432x288 with 1 Axes>"
            ],
            "image/png": "[encoded data removed]"
          },
          "metadata": {
            "needs_background": "light"
          }
        }
      ]
    },
    {
      "cell_type": "markdown",
      "source": [
        "2. ( 2 балла) напишите функцию, вычисляющую [Rand индекс](https://en.wikipedia.org/wiki/Rand_index)."
      ],
      "metadata": {
        "id": "0G2vSbCXND6z"
      }
    },
    {
      "cell_type": "code",
      "source": [
        "def RandIndex(y_true, y_pred):\n",
        "  if len(y_true) != len(y_pred):\n",
        "    return 0\n",
        "  a00 = 0\n",
        "  a11 = 0\n",
        "  a10 = 0\n",
        "  a01 = 0\n",
        "  N = len(y_true)\n",
        "  for i in range(N):    \n",
        "    for j in range(N):  \n",
        "      if i != j:        \n",
        "        if y_true[i] == y_true[j] and y_pred[i] == y_pred[j]:\n",
        "          a00 += 1\n",
        "        if y_true[i] != y_true[j] and y_pred[i] == y_pred[j]:\n",
        "          a01 += 1\n",
        "        if y_true[i] == y_true[j] and y_pred[i] != y_pred[j]:\n",
        "          a10 += 1\n",
        "        if y_true[i] != y_true[j] and y_pred[i] != y_pred[j]:\n",
        "          a11 += 1\n",
        "  rand_in=(a00 + a11) / (a00 + a11 + a01 + a10)\n",
        "  jac_in= a00 / (a00 + a01 + a10)\n",
        "  return rand_in, jac_in"
      ],
      "metadata": {
        "id": "BVMfBGnENEVR"
      },
      "execution_count": null,
      "outputs": []
    },
    {
      "cell_type": "markdown",
      "source": [
        "3. (2 балла) Рассмотрим задачу поиска сообществ с помощью агломеративного метода, постройте зависимость метрик качества (Rand индекс, взаимная энтропия, модулярность)  от числа задаваемых сообществ. \n",
        "Какое разбиение оказывается более близким к истинному? "
      ],
      "metadata": {
        "id": "S90Hu_KbNSzV"
      }
    },
    {
      "cell_type": "code",
      "source": [
        "def similarity_matrix(G, nodelist=None):\n",
        "    if (nodelist is None):\n",
        "        nodelist=list(G.nodes)\n",
        "\n",
        "    Smatrix=np.zeros((len(nodelist), len(nodelist)))\n",
        "\n",
        "    for i, node1 in enumerate(nodelist):\n",
        "        for j, node2 in enumerate(nodelist[i+1:], start = i+1):\n",
        "            Smatrix[i,j]=(len(set(G[node1]) & set(G[node2])) + int(G.has_edge(node1,node2)))/(np.min([len(G[node1]),len(G[node2])])\n",
        "                                                                                          +1-int(G.has_edge(node1,node2)))\n",
        "            Smatrix[j,i]=Smatrix[i,j]\n",
        "\n",
        "    return Smatrix\n",
        "\n",
        "N = 5\n",
        "steps = 20\n",
        "list_clust = np.linspace(N, steps*5, num=steps, dtype=int)\n",
        "SM = similarity_matrix(G, nodelist=None)\n",
        "communities = [] \n",
        "y_pred = []     \n",
        "j = 0\n",
        "for i in list_clust:\n",
        "  X = SM.copy()\n",
        "  communities.append(AgglomerativeClustering(linkage='average', n_clusters = i))\n",
        "  communities[j].fit(X)\n",
        "  y_pred.append(communities[j].labels_)\n",
        "  j += 1\n",
        "y_true = np.array(labels['label'])\n",
        "randi_list = []\n",
        "jaci_list = []\n",
        "muti_list = []\n",
        "for i in range(steps):\n",
        "  rand_in, jac_in = RandIndex(y_true, y_pred[i])\n",
        "  randi_list.append(rand_in)\n",
        "  jaci_list.append(jac_in)\n",
        "  muti_list.append(normalized_mutual_info_score(y_true, y_pred[i]))\n",
        "plt.plot(list_clust, randi_list)\n",
        "plt.plot(list_clust, jaci_list)\n",
        "plt.plot(list_clust, muti_list)\n",
        "plt.xlabel(\"Задаваемые сообщества\")\n",
        "plt.ylabel(\"Метрики качества\")\n",
        "commun = []  \n",
        "comms = []     \n",
        "cur_com = []   \n",
        "for i in range(steps):\n",
        "  for j in range(list_clust[i]):\n",
        "    for node_in in range(len(y_pred[i])):\n",
        "      if y_pred[i][node_in] == j:\n",
        "        cur_com.append(str(node_in))\n",
        "    comms.append(cur_com)\n",
        "    cur_com = []\n",
        "  commun.append(comms)\n",
        "  comms = []"
      ],
      "metadata": {
        "colab": {
          "base_uri": "https://localhost:8080/",
          "height": 1000
        },
        "id": "oAa4dlqmNTTw",
        "outputId": "546503b2-850e-4905-c517-9994c0fcba62"
      },
      "execution_count": null,
      "outputs": [
        {
          "output_type": "stream",
          "name": "stderr",
          "text": [
            "/usr/local/lib/python3.9/dist-packages/sklearn/cluster/_agglomerative.py:544: ClusterWarning: scipy.cluster: The symmetric non-negative hollow observation matrix looks suspiciously like an uncondensed distance matrix\n",
            "  out = hierarchy.linkage(X, method=linkage, metric=affinity)\n",
            "/usr/local/lib/python3.9/dist-packages/sklearn/cluster/_agglomerative.py:544: ClusterWarning: scipy.cluster: The symmetric non-negative hollow observation matrix looks suspiciously like an uncondensed distance matrix\n",
            "  out = hierarchy.linkage(X, method=linkage, metric=affinity)\n",
            "/usr/local/lib/python3.9/dist-packages/sklearn/cluster/_agglomerative.py:544: ClusterWarning: scipy.cluster: The symmetric non-negative hollow observation matrix looks suspiciously like an uncondensed distance matrix\n",
            "  out = hierarchy.linkage(X, method=linkage, metric=affinity)\n",
            "/usr/local/lib/python3.9/dist-packages/sklearn/cluster/_agglomerative.py:544: ClusterWarning: scipy.cluster: The symmetric non-negative hollow observation matrix looks suspiciously like an uncondensed distance matrix\n",
            "  out = hierarchy.linkage(X, method=linkage, metric=affinity)\n",
            "/usr/local/lib/python3.9/dist-packages/sklearn/cluster/_agglomerative.py:544: ClusterWarning: scipy.cluster: The symmetric non-negative hollow observation matrix looks suspiciously like an uncondensed distance matrix\n",
            "  out = hierarchy.linkage(X, method=linkage, metric=affinity)\n",
            "/usr/local/lib/python3.9/dist-packages/sklearn/cluster/_agglomerative.py:544: ClusterWarning: scipy.cluster: The symmetric non-negative hollow observation matrix looks suspiciously like an uncondensed distance matrix\n",
            "  out = hierarchy.linkage(X, method=linkage, metric=affinity)\n",
            "/usr/local/lib/python3.9/dist-packages/sklearn/cluster/_agglomerative.py:544: ClusterWarning: scipy.cluster: The symmetric non-negative hollow observation matrix looks suspiciously like an uncondensed distance matrix\n",
            "  out = hierarchy.linkage(X, method=linkage, metric=affinity)\n",
            "/usr/local/lib/python3.9/dist-packages/sklearn/cluster/_agglomerative.py:544: ClusterWarning: scipy.cluster: The symmetric non-negative hollow observation matrix looks suspiciously like an uncondensed distance matrix\n",
            "  out = hierarchy.linkage(X, method=linkage, metric=affinity)\n",
            "/usr/local/lib/python3.9/dist-packages/sklearn/cluster/_agglomerative.py:544: ClusterWarning: scipy.cluster: The symmetric non-negative hollow observation matrix looks suspiciously like an uncondensed distance matrix\n",
            "  out = hierarchy.linkage(X, method=linkage, metric=affinity)\n",
            "/usr/local/lib/python3.9/dist-packages/sklearn/cluster/_agglomerative.py:544: ClusterWarning: scipy.cluster: The symmetric non-negative hollow observation matrix looks suspiciously like an uncondensed distance matrix\n",
            "  out = hierarchy.linkage(X, method=linkage, metric=affinity)\n",
            "/usr/local/lib/python3.9/dist-packages/sklearn/cluster/_agglomerative.py:544: ClusterWarning: scipy.cluster: The symmetric non-negative hollow observation matrix looks suspiciously like an uncondensed distance matrix\n",
            "  out = hierarchy.linkage(X, method=linkage, metric=affinity)\n",
            "/usr/local/lib/python3.9/dist-packages/sklearn/cluster/_agglomerative.py:544: ClusterWarning: scipy.cluster: The symmetric non-negative hollow observation matrix looks suspiciously like an uncondensed distance matrix\n",
            "  out = hierarchy.linkage(X, method=linkage, metric=affinity)\n",
            "/usr/local/lib/python3.9/dist-packages/sklearn/cluster/_agglomerative.py:544: ClusterWarning: scipy.cluster: The symmetric non-negative hollow observation matrix looks suspiciously like an uncondensed distance matrix\n",
            "  out = hierarchy.linkage(X, method=linkage, metric=affinity)\n",
            "/usr/local/lib/python3.9/dist-packages/sklearn/cluster/_agglomerative.py:544: ClusterWarning: scipy.cluster: The symmetric non-negative hollow observation matrix looks suspiciously like an uncondensed distance matrix\n",
            "  out = hierarchy.linkage(X, method=linkage, metric=affinity)\n",
            "/usr/local/lib/python3.9/dist-packages/sklearn/cluster/_agglomerative.py:544: ClusterWarning: scipy.cluster: The symmetric non-negative hollow observation matrix looks suspiciously like an uncondensed distance matrix\n",
            "  out = hierarchy.linkage(X, method=linkage, metric=affinity)\n",
            "/usr/local/lib/python3.9/dist-packages/sklearn/cluster/_agglomerative.py:544: ClusterWarning: scipy.cluster: The symmetric non-negative hollow observation matrix looks suspiciously like an uncondensed distance matrix\n",
            "  out = hierarchy.linkage(X, method=linkage, metric=affinity)\n",
            "/usr/local/lib/python3.9/dist-packages/sklearn/cluster/_agglomerative.py:544: ClusterWarning: scipy.cluster: The symmetric non-negative hollow observation matrix looks suspiciously like an uncondensed distance matrix\n",
            "  out = hierarchy.linkage(X, method=linkage, metric=affinity)\n",
            "/usr/local/lib/python3.9/dist-packages/sklearn/cluster/_agglomerative.py:544: ClusterWarning: scipy.cluster: The symmetric non-negative hollow observation matrix looks suspiciously like an uncondensed distance matrix\n",
            "  out = hierarchy.linkage(X, method=linkage, metric=affinity)\n",
            "/usr/local/lib/python3.9/dist-packages/sklearn/cluster/_agglomerative.py:544: ClusterWarning: scipy.cluster: The symmetric non-negative hollow observation matrix looks suspiciously like an uncondensed distance matrix\n",
            "  out = hierarchy.linkage(X, method=linkage, metric=affinity)\n",
            "/usr/local/lib/python3.9/dist-packages/sklearn/cluster/_agglomerative.py:544: ClusterWarning: scipy.cluster: The symmetric non-negative hollow observation matrix looks suspiciously like an uncondensed distance matrix\n",
            "  out = hierarchy.linkage(X, method=linkage, metric=affinity)\n"
          ]
        },
        {
          "output_type": "display_data",
          "data": {
            "text/plain": [
              "<Figure size 432x288 with 1 Axes>"
            ],
            "image/png": "[encoded data removed]"
          },
          "metadata": {
            "needs_background": "light"
          }
        }
      ]
    },
    {
      "cell_type": "code",
      "source": [
        "modularities = []   \n",
        "for i in range(steps):\n",
        "  modularities.append(com.modularity(G, commun[i]))\n",
        "plt.plot(list_clust, modularities)"
      ],
      "metadata": {
        "colab": {
          "base_uri": "https://localhost:8080/",
          "height": 283
        },
        "id": "bN0eydhiOO44",
        "outputId": "bf72dcf6-46e8-4cff-f515-8caeefdabbdb"
      },
      "execution_count": null,
      "outputs": [
        {
          "output_type": "execute_result",
          "data": {
            "text/plain": [
              "[<matplotlib.lines.Line2D at 0x7f233281a550>]"
            ]
          },
          "metadata": {},
          "execution_count": 13
        },
        {
          "output_type": "display_data",
          "data": {
            "text/plain": [
              "<Figure size 432x288 with 1 Axes>"
            ],
            "image/png": "[encoded data removed]"
          },
          "metadata": {
            "needs_background": "light"
          }
        }
      ]
    },
    {
      "cell_type": "markdown",
      "source": [
        "3. (2 балла) Определите сообщества любым другим методом (из семинара 9). Сколько сообществ вы получили? Сравните метрики качества. "
      ],
      "metadata": {
        "id": "iZMi0v-rPA7V"
      }
    },
    {
      "cell_type": "code",
      "source": [
        "lens = []\n",
        "y_pred_alg = []\n",
        "y_pred_alg_cur = []\n",
        "modularities_alg = []\n",
        "num = 60\n",
        "g_n_comm = com.girvan_newman(G) \n",
        "for communities in itertools.islice(g_n_comm, num):\n",
        "  l = list(list(c) for c in communities)\n",
        "  mod = com.modularity(G, l)\n",
        "  lens.append(len(l))\n",
        "  modularities_alg.append(mod)\n",
        "  for node in range(len(labels['node'])):\n",
        "    for j in range(len(l)):\n",
        "      if str(node) in l[j]:\n",
        "        y_pred_alg_cur.append(j)\n",
        "        break\n",
        "  y_pred_alg.append(y_pred_alg_cur)\n",
        "  y_pred_alg_cur = []\n",
        "plt.plot(lens, modularities_alg)"
      ],
      "metadata": {
        "colab": {
          "base_uri": "https://localhost:8080/",
          "height": 283
        },
        "id": "-okmcDscPBZa",
        "outputId": "4c26bb7c-9073-45cf-9d89-da1cfaead09e"
      },
      "execution_count": null,
      "outputs": [
        {
          "output_type": "execute_result",
          "data": {
            "text/plain": [
              "[<matplotlib.lines.Line2D at 0x7f2335774220>]"
            ]
          },
          "metadata": {},
          "execution_count": 14
        },
        {
          "output_type": "display_data",
          "data": {
            "text/plain": [
              "<Figure size 432x288 with 1 Axes>"
            ],
            "image/png": "[encoded data removed]"
          },
          "metadata": {
            "needs_background": "light"
          }
        }
      ]
    },
    {
      "cell_type": "code",
      "source": [
        "randi_list_alg = []\n",
        "jaci_list_alg = []\n",
        "muti_list_alg = []\n",
        "for i in range(len(y_pred_alg)):\n",
        "  rand_in_alg, jac_in_alg = RandIndex(y_true, y_pred_alg[i])\n",
        "  randi_list_alg.append(rand_in_alg)\n",
        "  jaci_list_alg.append(jac_in_alg)\n",
        "  muti_list_alg.append(mutual_info_score(y_true, y_pred_alg[i]))\n",
        "plt.plot(lens, randi_list_alg)\n",
        "plt.plot(lens, jaci_list_alg)\n",
        "plt.plot(lens, muti_list_alg)\n",
        "plt.ylabel(\"Метрики качества\")"
      ],
      "metadata": {
        "colab": {
          "base_uri": "https://localhost:8080/",
          "height": 283
        },
        "id": "itTAaWYlPH7K",
        "outputId": "002772a0-27b7-4e40-e322-4bb47259c54a"
      },
      "execution_count": null,
      "outputs": [
        {
          "output_type": "execute_result",
          "data": {
            "text/plain": [
              "Text(0, 0.5, 'Метрики качества')"
            ]
          },
          "metadata": {},
          "execution_count": 16
        },
        {
          "output_type": "display_data",
          "data": {
            "text/plain": [
              "<Figure size 432x288 with 1 Axes>"
            ],
            "image/png": "[encoded data removed]"
          },
          "metadata": {
            "needs_background": "light"
          }
        }
      ]
    },
    {
      "cell_type": "code",
      "source": [
        "from community import community_louvain\n",
        "\n",
        "lv = community_louvain.best_partition(G)\n",
        "coms = []\n",
        "for i in range(max(lv.values()) + 1):\n",
        "    coms.append(set(n for n in G.nodes() if (lv[n] == i)))\n",
        "\n",
        "print(\"Модулярность:\", com.modularity(G,coms))\n",
        "print(\"Количество кластеров:\", len(coms))"
      ],
      "metadata": {
        "colab": {
          "base_uri": "https://localhost:8080/"
        },
        "id": "1lSh08VhPLH6",
        "outputId": "422333d2-7bac-44b9-ca1b-db7aafcc705c"
      },
      "execution_count": null,
      "outputs": [
        {
          "output_type": "stream",
          "name": "stdout",
          "text": [
            "Модулярность: 0.4320995936958587\n",
            "Количество кластеров: 27\n"
          ]
        }
      ]
    }
  ]
}